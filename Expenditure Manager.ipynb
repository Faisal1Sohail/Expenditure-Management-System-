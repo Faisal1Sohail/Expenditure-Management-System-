{
 "cells": [
  {
   "cell_type": "code",
   "execution_count": 1,
   "id": "a81f3345",
   "metadata": {},
   "outputs": [],
   "source": [
    "import sqlite3 as sql\n",
    "import datetime\n",
    "from datetime import timedelta\n",
    "import random\n",
    "conn= sql.connect(\"saveData.db\")\n",
    "cur = conn.cursor()"
   ]
  },
  {
   "cell_type": "code",
   "execution_count": 2,
   "id": "8a43d570",
   "metadata": {},
   "outputs": [],
   "source": [
    "import matplotlib.pyplot as plt\n",
    "import pandas as pd\n",
    "import seaborn as sns\n",
    "from ipywidgets import interact\n",
    "from ipywidgets import widgets\n",
    "from IPython.display import display\n",
    "\n",
    "currentDateTime = datetime.date.today().strftime(\"%A %d-%B-%y\")"
   ]
  },
  {
   "cell_type": "markdown",
   "id": "64d6095a",
   "metadata": {},
   "source": [
    "# Guide and Help"
   ]
  },
  {
   "cell_type": "code",
   "execution_count": 24,
   "id": "b680a36b",
   "metadata": {},
   "outputs": [],
   "source": [
    "#qry=\"create table if not exists IncomeData(Transaction_id INTEGER PRIMARY KEY AUTOINCREMENT, Amount float64, Source varchar2, Description varchar2, Balance float64, Date datetime)\"\n",
    "#qry=\"create table if not exists ExpendData(Record_id INTEGER PRIMARY KEY AUTOINCREMENT, DeductedAmount float64, Source varchar2, Description varchar2, CurrentBalance float64, Date datetime)\"\n",
    "#qry=\"create table if not exists UserData(Username varchar2, Passcode varchar2)\"\n",
    "\n",
    "#To know all tables in database\n",
    "#sql_query = \"\"\"SELECT name FROM sqlite_master  WHERE type='table';\"\"\"\n",
    "#dqry=\"delete from IncomeData;\"\n",
    "#print(cur.execute(sql_query).fetchall())\n",
    "#cur.execute(qry)\n",
    "\n",
    "#x = cur.execute(\"SELECT * FROM ExpendData where Source = 'outeating' ORDER BY strftime('%Y-%m-%d', Date) DESC;\").fetchall()\n",
    "#cur.execute(\"Update UserData SET ExpenseTable = CAST(ExpenseTable as varchar2\")\n",
    "#cur.execute(\"Alter table UserData add column ExpenseTable varchar2\")\n",
    "#cur.execute(\"Insert into data(Balance) values(100)\")\n",
    "#cur.execute(\"Alter table ExpendData RENAME COLUMN BalanceTillNow to CurrentBalance\")\n",
    "#cur.execute(\"Update UserData SET Passcode = ? where Username = 'mddanishsamir635@gmail.com'\",(t,))\n",
    "#for i in cur.execute(\"Pragma table_info(UserData)\"):\n",
    "    #print(i)"
   ]
  },
  {
   "cell_type": "code",
   "execution_count": 13,
   "id": "d24b6a5c",
   "metadata": {},
   "outputs": [],
   "source": [
    "# Function to send OTP via email\n",
    "from email.mime.text import MIMEText\n",
    "import smtplib\n",
    "def send_otp_email(email, otp):\n",
    "    from_email = \"vilen.9996@gmail.com\"\n",
    "    password = \"pcjgtsrbxwhbnleu\"\n",
    "    \n",
    "    msg = MIMEText(f\"Your OTP for Email verification: {otp}\")\n",
    "    msg['Subject'] = 'OTP for into Expense Manager'\n",
    "    msg['From'] = from_email\n",
    "    msg['To'] = email\n",
    "\n",
    "    try:\n",
    "        server = smtplib.SMTP('smtp.gmail.com', 587)\n",
    "        server.starttls()\n",
    "        server.login(from_email, password)\n",
    "        server.sendmail(from_email, email, msg.as_string())\n",
    "        server.quit()\n",
    "        print(\"OTP sent successfully.\")\n",
    "    except Exception as e:\n",
    "        print(f\"Failed to send OTP. Error: {e}\")"
   ]
  },
  {
   "cell_type": "code",
   "execution_count": 14,
   "id": "1faeb2ca",
   "metadata": {},
   "outputs": [
    {
     "name": "stdout",
     "output_type": "stream",
     "text": [
      "Failed to send OTP. Error: [WinError 10060] A connection attempt failed because the connected party did not properly respond after a period of time, or established connection failed because connected host has failed to respond\n"
     ]
    }
   ],
   "source": [
    "send_otp_email('mddanishsamir2002@gmail.com', 4321)"
   ]
  },
  {
   "cell_type": "code",
   "execution_count": null,
   "id": "f80b0673",
   "metadata": {},
   "outputs": [],
   "source": [
    "import random\n",
    "import smtplib\n",
    "import getpass\n",
    "from email.mime.text import MIMEText\n",
    "\n",
    "# Database to store user data (in-memory dictionary for simplicity)\n",
    "user_database = {}\n",
    "\n",
    "# Function to generate a random OTP\n",
    "def generate_otp():\n",
    "    return str(random.randint(1000, 9999))\n",
    "\n",
    "\n",
    "# Function for user signup\n",
    "def signup():\n",
    "    email = input(\"Enter your email: \")\n",
    "    if email.split('@')[-1] != 'gmail.com':\n",
    "        print(\"Invalid username\")\n",
    "        return\n",
    "    \n",
    "    if email in user_database:\n",
    "        print(\"Email already exists.\")\n",
    "        return\n",
    "    \n",
    "    passcode = getpass.getpass(\"Enter your password: \")\n",
    "    hashed_passcode = find_hash(passcode)\n",
    "    \n",
    "    otp = generate_otp()\n",
    "    send_otp_email(email, otp)\n",
    "    \n",
    "    entered_otp = input(\"Enter the OTP sent to your email: \")\n",
    "    \n",
    "    if entered_otp == otp:\n",
    "        newtable1 = email.split('@')[0] + ''.join(generate_otp())\n",
    "        newtable2 = email.split('@')[0] + ''.join(generate_otp())\n",
    "        user_database[email] = passcode\n",
    "        # Creating new Database for new User\n",
    "        qryincm=cur.execute(\"create table if not exists %s(Transaction_id INTEGER PRIMARY KEY AUTOINCREMENT, Amount float64 NOT NULL, Source varchar2 NOT NULL , Description varchar2, Balance float64 Default 0.0, Date TEXT)\" %newtable1)\n",
    "        qryexpnd=cur.execute(\"create table if not exists %s(Record_id INTEGER PRIMARY KEY AUTOINCREMENT, DeductedAmount float64 Default 0.0, Source varchar2 NOT NULL, Description varchar2, CurrentBalance float64 Default 0.0, Date TEXT)\"%newtable2)\n",
    "        \n",
    "        \n",
    "        # Inserting User details into Database\n",
    "        cur.execute(\"Insert into UserData(Username, Passcode, IncomeTable, ExpenseTable) values (?,?,?,?);\",(email, hashed_passcode, newtable1, newtable2))\n",
    "        conn.commit();\n",
    "        \n",
    "        print(\"Signup successful.\")\n",
    "    else:\n",
    "        print(\"Signup failed. Incorrect OTP.\")\n",
    "\n",
    "# Function for user sign-in\n",
    "def signin():\n",
    "    email = input(\"Enter your email: \")\n",
    "    if email.split('@')[-1] != 'gmail.com':\n",
    "        print(\"Invalid e-mail\")\n",
    "        return\n",
    "    password = getpass.getpass(\"Enter your password: \")\n",
    "    hashed_password = find_hash(password)\n",
    "    \n",
    "    \n",
    "    userList = cur.execute(\"select * from UserData where Username = ? \" , (email,)).fetchone()\n",
    "            \n",
    "    if userList and userList[1] == hashed_password:\n",
    "        print(\"\\n Welcome! How may i help you?\")\n",
    "        print(\"\"\"\\nEnter 1 to check savings\n",
    "Enter 2 to add Money\n",
    "Enter 3 to add spendings\n",
    "Enter 4 to Monthly Expenses\n",
    "Enter 5 to show trends in Incomes and expenses\n",
    "Enter 6 to show category wise expenses\n",
    "Enter 7 to show entire records\n",
    "Enter 0 to Log Out!\"\"\")\n",
    "        validRequest = [0,1,2,3,4,5]\n",
    "        incomeTable = userList[2]\n",
    "        expenseTable = userList[3]\n",
    "        \n",
    "        while True:\n",
    "            print('\\n')\n",
    "            request = int(input(\"Enter your request: \"))\n",
    "            print('\\n')\n",
    "            if request == 1:\n",
    "                checkBalance(expenseTable)\n",
    "            \n",
    "            elif request == 2:\n",
    "                source = input(\"Enter source only from {'Salary', 'Recovery','Rewards'}\")\n",
    "                date = input(\"Enter date (Valid format: Monday 12-January-23): \")\n",
    "                \n",
    "                if date and source:\n",
    "                    addMoney(date, source, incomeTable, expenseTable)\n",
    "                \n",
    "                else:\n",
    "                    print(\"Please select all required field\")\n",
    "                    \n",
    "            \n",
    "            elif request == 3:\n",
    "                '''date = widgets.Dropdown(options=['Today','Tomorrow', 'Yesterday', 'Custom Date'], description = \"Select Date\")\n",
    "                thistype = widgets.Dropdown(options=[\"Select\", 'education', 'Room rent', 'self', 'other', 'recharges', 'outeating', 'household', 'LendedMoney', 'donate'], description = \"Type\")\n",
    "                display(date, thistype)'''\n",
    "                \n",
    "                date = input(\"Enter date {Valid format: Monday 12-January-23}: \")\n",
    "                valid_source = ['education', 'Room rent', 'self', 'other', 'recharges', 'outeating', 'household', 'LendedMoney', 'donate']\n",
    "                source = input(\"Enter Valid source from ['education', 'Room rent', 'self', 'other', 'recharges', 'outeating', 'household', 'LendedMoney', 'donate']: \")\n",
    "                \n",
    "                #path = input(\"Enter path of document with extension else type 'No Document'.\")\n",
    "                #x = convertToBinaryData(path)\n",
    "                \n",
    "                if date and source in valid_source:\n",
    "                    addExpense(date, source, expenseTable)\n",
    "                else:\n",
    "                    print(\"Please select all required field\")\n",
    "            \n",
    "            elif request == 4:\n",
    "                monthlyData(expenseTable)\n",
    "            \n",
    "            elif request == 5:\n",
    "                temp = input(\"Enter duration for which record is required(months or whole year): \")\n",
    "                yr = input(\"Enter year for which record is required\")\n",
    "                incomeSalary(temp, yr, incomeTable, expenseTable)\n",
    "                \n",
    "            elif request == 6:\n",
    "                expenseAnalyz(expenseTable)\n",
    "            \n",
    "            elif request == 7:\n",
    "                temp = input(\"Enter the Record type (Like Income or Expense): \")\n",
    "                temp = temp.upper()\n",
    "                if temp == 'EXPENSE':\n",
    "                    getXexpenditure(expenseTable)\n",
    "                elif temp == 'INCOME':\n",
    "                    getXexpenditure(incomeTable)\n",
    "                else:\n",
    "                    print(\"Enter valid database\")\n",
    "            \n",
    "            elif request == 0:\n",
    "                break\n",
    "            \n",
    "            else:\n",
    "                print(\"Enter Valid Request\",'\\n')\n",
    "             \n",
    "        \n",
    "    else:\n",
    "        print(\"Username or Password is incorrect\")\n",
    "        print(\"New User please Sign Up\")\n",
    "    \n",
    "\n",
    "# Main program\n",
    "print(\"\\n1. Signup\")\n",
    "print(\"2. Signin\")\n",
    "print(\"3. Forget Password\")\n",
    "print(\"0. Quit\")\n",
    "while True:\n",
    "    \n",
    "    choice = input(\"Enter your choice (1/2/3/0): \")\n",
    "    \n",
    "    if choice == '1':\n",
    "        signup()\n",
    "    elif choice == '2':\n",
    "        signin()\n",
    "    elif choice == '3':\n",
    "        forget()\n",
    "    elif choice == '0':\n",
    "        print(\"Thank You! Have a nice day ahead.\")\n",
    "        break\n",
    "    else:\n",
    "        print(\"Invalid choice. Please try again.\")\n"
   ]
  },
  {
   "cell_type": "code",
   "execution_count": 1,
   "id": "06d21f5f",
   "metadata": {},
   "outputs": [
    {
     "name": "stdout",
     "output_type": "stream",
     "text": [
      "{\n",
      "    \"event\": \"Meeting\",\n",
      "    \"date\": \"2024-03-26 14:30:00\"\n",
      "}\n"
     ]
    }
   ],
   "source": [
    "import json\n",
    "from datetime import datetime\n",
    "\n",
    "# Sample JSON data with date strings\n",
    "json_data = '''\n",
    "{\n",
    "    \"event\": \"Meeting\",\n",
    "    \"date\": \"2024-03-26T14:30:00Z\"\n",
    "}\n",
    "'''\n",
    "\n",
    "# Load JSON data\n",
    "data = json.loads(json_data)\n",
    "\n",
    "# Convert date string to user-readable format\n",
    "date_str = data['date']\n",
    "parsed_date = datetime.fromisoformat(date_str[:-1])  # Removing 'Z' and then parsing\n",
    "user_readable_date = parsed_date.strftime(\"%Y-%m-%d %H:%M:%S\")  # Format to your liking\n",
    "\n",
    "# Update JSON data with user-readable date\n",
    "data['date'] = user_readable_date\n",
    "\n",
    "# Print updated JSON data\n",
    "print(json.dumps(data, indent=4))"
   ]
  },
  {
   "cell_type": "code",
   "execution_count": null,
   "id": "5b9e4073",
   "metadata": {},
   "outputs": [],
   "source": [
    "temp = cur.execute(\"SELECT * from UserData\").fetchall()\n",
    "print(temp)"
   ]
  },
  {
   "cell_type": "code",
   "execution_count": 4,
   "id": "5e1bab6c",
   "metadata": {},
   "outputs": [],
   "source": [
    "def forget():\n",
    "    email = input(\"Enter registered email: \")\n",
    "    temp = cur.execute(\"SELECT EXISTS (SELECT 1 FROM UserData WHERE Username=?);\",(email,)).fetchone()\n",
    "    if temp[0] == 1:\n",
    "        otp = generate_otp()\n",
    "        send_otp_email(email, otp)\n",
    "        \n",
    "        enter_otp = input(\"Enter otp sent to your mail: \")\n",
    "        if enter_otp == otp:\n",
    "            newPassword = getpass.getpass(\"Enter new Password: \")\n",
    "            hashed_newPassword = find_hash(newPassword)\n",
    "            \n",
    "            cur.execute(\"Update UserData Set Passcode = ? where Username = ?\", (hashed_newPassword, email,))\n",
    "            print(\"Password updated successfully\")\n",
    "            \n",
    "        else:\n",
    "            print(\"Incorrect OTP\")\n",
    "    else:\n",
    "        print(\"User Does not Exist!\")"
   ]
  },
  {
   "cell_type": "code",
   "execution_count": 5,
   "id": "ba93a4fd",
   "metadata": {},
   "outputs": [],
   "source": [
    "import hashlib\n",
    "def find_hash(data):\n",
    "    hash_object = hashlib.sha256(data.encode())\n",
    "    hashed_value = hash_object.hexdigest()\n",
    "    return hashed_value\n"
   ]
  },
  {
   "cell_type": "code",
   "execution_count": 6,
   "id": "412544b2",
   "metadata": {},
   "outputs": [
    {
     "name": "stdout",
     "output_type": "stream",
     "text": [
      "Max Satisfaction: 1050\n",
      "Optimal Allocation: [(2000, 300), (5000, 700), (500, 50)]\n"
     ]
    }
   ],
   "source": [
    "def optimal_budget_allocation(budget, categories):\n",
    "    # Create a table to store optimal values for subproblems\n",
    "    dp = [[0] * (budget + 1) for _ in range(len(categories) + 1)]\n",
    "\n",
    "    for i in range(1, len(categories) + 1):\n",
    "        for j in range(budget + 1):\n",
    "            cost, satisfaction = categories[i - 1]\n",
    "            # Choose whether to allocate to the current category or skip it\n",
    "            if cost <= j:\n",
    "                dp[i][j] = max(dp[i - 1][j], dp[i - 1][j - cost] + satisfaction)\n",
    "            else:\n",
    "                dp[i][j] = dp[i - 1][j]\n",
    "\n",
    "    # Reconstruct the optimal spending strategy (optional)\n",
    "    optimal_allocation = []\n",
    "    i, j = len(categories), budget\n",
    "    while i > 0 and j > 0:\n",
    "        if dp[i][j] != dp[i - 1][j]:\n",
    "            optimal_allocation.append(categories[i - 1])\n",
    "            j -= categories[i - 1][0]\n",
    "        i -= 1\n",
    "\n",
    "    return dp[len(categories)][budget], optimal_allocation\n",
    "\n",
    "# Example usage:\n",
    "budget = 20000\n",
    "categories = [(500, 50), (5000, 700), (2000, 300)]\n",
    "max_satisfaction, allocation = optimal_budget_allocation(budget, categories)\n",
    "print(\"Max Satisfaction:\", max_satisfaction)\n",
    "print(\"Optimal Allocation:\", allocation)\n"
   ]
  },
  {
   "cell_type": "code",
   "execution_count": 7,
   "id": "ccfced5f",
   "metadata": {},
   "outputs": [
    {
     "name": "stdout",
     "output_type": "stream",
     "text": [
      "('26-03-2024',)\n"
     ]
    }
   ],
   "source": [
    "temp = cur.execute(\"SELECT strftime('%d-%m-%Y', 'now', '0 day');\").fetchone()\n",
    "#cur.execute(\"insert into IncomeData (Amount, Balance, Source, Description, Date) select AddedAmount, Balance, ExpendType, Purpose, Date from data where AddedAmount <> 'None'\")\n",
    "#conn.commit();\n",
    "'''temp = cur.execute(\"\"\"SELECT \n",
    "    strftime('%d', '2035-12-01') AS \"Day\",\n",
    "    strftime('%m', '2035-12-01') AS \"Month\",\n",
    "    strftime('%Y', '2035-12-01') AS \"Year\";\"\"\").fetchall()'''\n",
    "print(temp)"
   ]
  },
  {
   "cell_type": "code",
   "execution_count": 8,
   "id": "de50ea80",
   "metadata": {},
   "outputs": [],
   "source": [
    "def checkBalance(table):\n",
    "    print(table)\n",
    "    cur.execute(\"select CurrentBalance from %s \" %table)\n",
    "    x=cur.fetchall()\n",
    "    if len(x) == 0:\n",
    "        print(\"Your Current Saving: \", 0.0)\n",
    "    else:\n",
    "        print(\"Your Current Saving: \",x[-1][0])"
   ]
  },
  {
   "cell_type": "code",
   "execution_count": 9,
   "id": "a1df2047",
   "metadata": {},
   "outputs": [],
   "source": [
    "def getXexpenditure(table):\n",
    "    till =input(\"Enter Number of transactions you want to see: \")\n",
    "    \n",
    "    query = \"select * from %s \" %table\n",
    "    df = pd.read_sql(query, conn)\n",
    "    if till.isalpha():\n",
    "        #print(df.to_string())\n",
    "        '''with pd.option_context('display.max_rows', None, 'display.max_columns', 100):\n",
    "            print(df)'''\n",
    "        from IPython.core.display import HTML\n",
    "        display(HTML(df.to_html()))\n",
    "    else:\n",
    "        display(df.tail(int(till)))\n",
    "        '''for i in enumerate(x[len(x)- int(till):][::-1], 1):\n",
    "            print([i])'''"
   ]
  },
  {
   "cell_type": "markdown",
   "id": "803ebdb3",
   "metadata": {},
   "source": [
    "## Deletion of a record"
   ]
  },
  {
   "cell_type": "code",
   "execution_count": 10,
   "id": "7ca6e639",
   "metadata": {},
   "outputs": [],
   "source": [
    "def delete(dates, typeof):\n",
    "    if dates == 'Yesterday':\n",
    "        thisdate = (datetime.date.today() - timedelta(1)).strftime(\"%A %d-%B-%y\")\n",
    "    if dates == 'Custom Date':\n",
    "        thisdate = input('Please Enter the Date here...Note* : Months and days 1st letter must be Capital:  ')\n",
    "    if dates == 'Today':\n",
    "        thisdate = datetime.date.today().strftime(\"%A %d-%B-%y\")\n",
    "    query = \" delete from IncomeData where Date = (?) and Transaction_id = 21;\"\n",
    "    cur.execute(query, (thisdate, ))\n",
    "    conn.commit()\n",
    "    print(\"done\")"
   ]
  },
  {
   "cell_type": "code",
   "execution_count": 11,
   "id": "35957c66",
   "metadata": {
    "scrolled": true
   },
   "outputs": [
    {
     "data": {
      "application/vnd.jupyter.widget-view+json": {
       "model_id": "03c54b2c180049d199e1a34893961d38",
       "version_major": 2,
       "version_minor": 0
      },
      "text/plain": [
       "Dropdown(description='Select Date', options=('Today', 'Yesterday', 'Custom Date'), value='Today')"
      ]
     },
     "metadata": {},
     "output_type": "display_data"
    },
    {
     "data": {
      "application/vnd.jupyter.widget-view+json": {
       "model_id": "5ec6c4354b3f41b497df06076f2028ac",
       "version_major": 2,
       "version_minor": 0
      },
      "text/plain": [
       "Dropdown(description='Type', options=('Select', 'education', 'Room rent', 'self', 'other', 'recharges', 'outea…"
      ]
     },
     "metadata": {},
     "output_type": "display_data"
    }
   ],
   "source": [
    "Deletedate = widgets.Dropdown(options=['Today', 'Yesterday', 'Custom Date'], description = \"Select Date\")\n",
    "deletetype = widgets.Dropdown(options=[\"Select\", 'education', 'Room rent', 'self', 'other', 'recharges', 'outeating', 'household', 'LendedMoney', 'donate', 'Salary', 'Recovery','Rewards'], description = \"Type\")\n",
    "display(Deletedate, deletetype)"
   ]
  },
  {
   "cell_type": "code",
   "execution_count": null,
   "id": "8930cf54",
   "metadata": {},
   "outputs": [],
   "source": [
    "delete(Deletedate.value, deletetype.value)"
   ]
  },
  {
   "cell_type": "code",
   "execution_count": null,
   "id": "8012b927",
   "metadata": {},
   "outputs": [],
   "source": []
  },
  {
   "cell_type": "code",
   "execution_count": null,
   "id": "4aa4c764",
   "metadata": {},
   "outputs": [],
   "source": [
    "## UPDATION OF RECORDS"
   ]
  },
  {
   "cell_type": "code",
   "execution_count": null,
   "id": "75740701",
   "metadata": {},
   "outputs": [],
   "source": [
    "def Update(column, date, thistype, olderValue, write_this):\n",
    "    if date == 'Yesterday':\n",
    "        thisdate = (datetime.date.today() - timedelta(1)).strftime(\"%A %d-%B-%y\")\n",
    "    if date == 'Custom Date':\n",
    "        thisdate = input('Please Enter the Date here...Note* : Months and days 1st letter must be Capital:  ')\n",
    "    if date == 'Today':\n",
    "        thisdate = datetime.date.today().strftime(\"%A %d-%B-%y\")\n",
    "    query = \" update data set %s  = ? where Date = ? and %s = ?\" %(column, column)\n",
    "    cur.execute(query, (write_this,thisdate,olderValue,))\n",
    "    conn.commit()\n",
    "    print(\"Record Updated!\")"
   ]
  },
  {
   "cell_type": "code",
   "execution_count": null,
   "id": "7b5bc8fb",
   "metadata": {},
   "outputs": [],
   "source": [
    "table = \"ExpendData\"\n",
    "monthis = \"September\"\n",
    "#temp  =\"Delete from %s where Record_id = 79\" %table\n",
    "temp1 = \"Select * from %s where Date like ?\" %table\n",
    "x = cur.execute(temp1, (f'%{monthis}%',)).fetchall()\n",
    "#cur.execute(temp)\n",
    "#conn.commit();\n",
    "print(x)"
   ]
  },
  {
   "cell_type": "code",
   "execution_count": null,
   "id": "fbf1b6cd",
   "metadata": {},
   "outputs": [],
   "source": [
    "date = widgets.Dropdown(options=['Today', 'Yesterday', 'Custom Date'], description = \"Select Date\")\n",
    "thistype = widgets.Dropdown(options=[\"Select\", 'education', 'Room rent', 'self', 'other', 'recharges', 'outeating', 'household', 'LendedMoney', 'donate', 'Salary', 'Recovery','Rewards'], description = \"Type\")\n",
    "column = widgets.Dropdown(options= ['SNo','Balance', 'Expenditure','ExpendType','Purpose','Date','AddedAmount'], description = \"select column to be updated\")\n",
    "olderValue = input(\"Enter Current statement in the record: \")\n",
    "write_this  = input(\"Enter the new statement to be rewritten: \")\n",
    "\n",
    "display(column, date, thistype)"
   ]
  },
  {
   "cell_type": "code",
   "execution_count": null,
   "id": "94f7826f",
   "metadata": {},
   "outputs": [],
   "source": [
    "Update(column.value, date.value, thistype.value, olderValue, write_this)"
   ]
  },
  {
   "cell_type": "code",
   "execution_count": null,
   "id": "5dd7b1c5",
   "metadata": {},
   "outputs": [],
   "source": [
    "#import base64\n",
    "def convertToBinaryData(docfile):\n",
    "    #convert digital data to binary format\n",
    "    with open(docfile, 'rb') as file:\n",
    "        binaryData = file.read()\n",
    "        #base64_encoded = base64.b64encode(binaryData).decode('utf-8')\n",
    "    return binaryData"
   ]
  },
  {
   "cell_type": "code",
   "execution_count": 36,
   "id": "c8e5f04f",
   "metadata": {},
   "outputs": [],
   "source": [
    "def addExpense(dates, types, table2):\n",
    "        \n",
    "    amount = float(input(\"Enter the amount you spent: \"))\n",
    "    \n",
    "    while True:\n",
    "        if amount< 0:\n",
    "            print(\"  Please Enter Valid Amount!\")\n",
    "            amount = int(input('Enter the Amount you spent: '))\n",
    "        if amount > 0:\n",
    "            break\n",
    "            \n",
    "    z = input(\"What was the purpose of this expenditure: \")\n",
    "        \n",
    "    currBalance = cur.execute(\"select CurrentBalance from %s\" %table2).fetchall()\n",
    "    if len(currBalance) != 0:\n",
    "        temp=currBalance[-1][0]\n",
    "    else:\n",
    "        temp = 0\n",
    "        \n",
    "    remain= temp-amount\n",
    "    query = \"insert into %s (CurrentBalance, DeductedAmount, Source, Description, Date) values (?, ?, ?, ?, ?);\" %table2\n",
    "    cur.execute(query, (remain, amount, types, z, dates))\n",
    "    conn.commit();\n",
    "    print(\"Your remaining amount is \", remain)"
   ]
  },
  {
   "cell_type": "code",
   "execution_count": null,
   "id": "99c68db2",
   "metadata": {},
   "outputs": [],
   "source": [
    "date = widgets.Dropdown(options=['Today','Tomorrow', 'Yesterday', 'Custom Date'], description = \"Select Date\")\n",
    "thistype = widgets.Dropdown(options=[\"Select\", 'education', 'Room rent', 'self', 'other', 'recharges', 'outeating', 'household', 'LendedMoney', 'donate'], description = \"Type\")\n",
    "display(date, thistype)"
   ]
  },
  {
   "cell_type": "code",
   "execution_count": null,
   "id": "b6691ee4",
   "metadata": {},
   "outputs": [],
   "source": [
    "path = 'I:\\TCSPapers.pdf'\n",
    "x = convertToBinaryData(path)\n",
    "addExpense(date.value, thistype.value, x)"
   ]
  },
  {
   "cell_type": "code",
   "execution_count": null,
   "id": "bb0c700f",
   "metadata": {},
   "outputs": [],
   "source": [
    "# To show the added document\n",
    "from io import BytesIO\n",
    "from PIL import Image\n",
    "x = cur.execute(\"select Document from ExpendData\").fetchall()\n",
    "a = x[-2][-1]\n",
    "image = Image.open(BytesIO(a))\n",
    "image.show()"
   ]
  },
  {
   "cell_type": "code",
   "execution_count": null,
   "id": "a9f672ed",
   "metadata": {},
   "outputs": [],
   "source": [
    "# To show pdf file\n",
    "import tempfile\n",
    "#import PyPDF2\n",
    "import subprocess\n",
    "\n",
    "x = cur.execute(\"select Document from ExpendData\").fetchall()\n",
    "a = x[-2][-1]\n",
    "\n",
    "temp_pdf = tempfile.NamedTemporaryFile(delete=False, suffix=\".pdf\")\n",
    "\n",
    "with open(temp_pdf.name, 'wb') as temp_file:\n",
    "    temp_file.write(a)\n",
    "\n",
    "subprocess.Popen(['start', '', temp_pdf.name], shell = True)\n",
    "temp_pdf.close()\n",
    "#import os\n",
    "#os.startfile(temp_pdf_file.name)"
   ]
  },
  {
   "cell_type": "code",
   "execution_count": 37,
   "id": "27b72949",
   "metadata": {},
   "outputs": [],
   "source": [
    "def addMoney(dates, source, table1, table2):\n",
    "    '''if dates == 'Yesterday':\n",
    "        #thisdate = datetime.date.today() - timedelta(days=1)\n",
    "        #thisdate.strftime(\"%A %d-%B-%y\")\n",
    "        thisdate = (datetime.date.today() - timedelta(1)).strftime(\"%A %d-%B-%y\")\n",
    "    if dates == 'Custom Date':\n",
    "        #thisdate = widgets.Textarea(value=\"Please enter Date here..\")\n",
    "        thisdate = input('Please Enter the Date here...Note* : Months and days 1st letter must be Capital:  ')\n",
    "    if dates == 'Today':\n",
    "        thisdate = datetime.date.today().strftime(\"%A %d-%B-%y\")'''\n",
    "    \n",
    "    num = int(input('Enter the Amount to be Added: '))\n",
    "    while True:\n",
    "        if num< 0:\n",
    "            print(\"  Please Enter Valid Amount!\")\n",
    "            num = int(input('Enter the Amount to be Added: '))\n",
    "        if num > 0:\n",
    "            break\n",
    "    purps = input(\"What was the purpose of this expenditure: \")\n",
    "    currBalance = cur.execute(\"select CurrentBalance from %s\" %table2).fetchall()\n",
    "    if len(currBalance) != 0:\n",
    "        temp=currBalance[-1][0]\n",
    "    else:\n",
    "        temp = 0\n",
    "        \n",
    "    mainBal= temp + num\n",
    "    \n",
    "    query1 = \"insert into %s (Balance, Amount, Source, Description, Date) values (?, ?, ?, ?, ?);\" %table1\n",
    "    query2 = \"insert into %s (CurrentBalance, Source, Description, Date) values (?, 'BalanceUpdate', 'Updation in IncomeData', ?);\" %table2\n",
    "    cur.execute(query1, (mainBal, num, source, purps, dates))\n",
    "    cur.execute(query2, (mainBal, dates))\n",
    "    print(\"Amount Successfully added\")\n",
    "    conn.commit();"
   ]
  },
  {
   "cell_type": "code",
   "execution_count": null,
   "id": "10e79858",
   "metadata": {},
   "outputs": [],
   "source": [
    "date = widgets.Dropdown(options=['Today', 'Yesterday', 'Custom Date'], description = \"Select Date\")\n",
    "thistype = widgets.Dropdown(options=[\"Select\", 'Salary', 'Recovery','Rewards'], description = \"Type\")\n",
    "display(date, thistype)"
   ]
  },
  {
   "cell_type": "code",
   "execution_count": null,
   "id": "69e76319",
   "metadata": {},
   "outputs": [],
   "source": [
    "addMoney(date.value, thistype.value)"
   ]
  },
  {
   "cell_type": "code",
   "execution_count": null,
   "id": "147675a4",
   "metadata": {},
   "outputs": [],
   "source": [
    "temp = '08-April-23'\n",
    "l = 'now'\n",
    "#x = cur.execute(\"SELECT strftime('%y','now') - strftime('%y','2014');\").fetchall()\n",
    "#x = cur.execute(\"Select Cast ((JulianDay(ToDate) - JulianDay(Date)) As Integer)\").fetchall()\n",
    "x = cur.execute(\"SELECT strftime('%s', 'now');\").fetchall()\n",
    "#x = cur.execute(\" select Expenditure from data where strftime('%y', Date) IN ('23', '22');\").fetchall()\n",
    "'''temps = '-4'\n",
    "t = '1 days'\n",
    "query = \"SELECT DATE('now', '%s year', ?) AS modified_date;\" %temps\n",
    "y = cur.execute(query, (t,)).fetchall()'''\n",
    "#x.strftime(\"%A %d-%B-%y\")\n",
    "print(x)\n",
    "\n",
    "#SELECT DATE('now','-1 day')\n",
    "#SELECT DATE('now', '-5 months', '-3 days')\n",
    "#SELECT DATE('now', '+1 day')\n",
    "\n",
    "#(datetime.date.today() - timedelta(1)).strftime('%Y-%m-%d')\n",
    "yesterday = datetime.date.today() - timedelta(days=1)\n",
    "yesterday.strftime(\"%A %d-%B-%y\")"
   ]
  },
  {
   "cell_type": "code",
   "execution_count": 42,
   "id": "7fa545ca",
   "metadata": {},
   "outputs": [
    {
     "name": "stdout",
     "output_type": "stream",
     "text": [
      "Saturday 01 April 23\n"
     ]
    }
   ],
   "source": [
    "s = \"saturday 01 april 23\"\n",
    "# capitalize first letter of each word\n",
    "new_s = \" \".join(word[0].upper()+word[1:] for word in s.split(\" \"))\n",
    "print(new_s)"
   ]
  },
  {
   "cell_type": "markdown",
   "id": "6afde989",
   "metadata": {},
   "source": [
    "# Analysis"
   ]
  },
  {
   "cell_type": "code",
   "execution_count": 78,
   "id": "13467dd4",
   "metadata": {},
   "outputs": [],
   "source": [
    "### Month wise Data\n",
    "def monthlyData(temp2):\n",
    "    months = ['January', 'February', 'March', 'April', 'May', 'June', 'July', 'August', 'September', 'October', 'November', 'December']\n",
    "    monthlyExpenses = []\n",
    "    for monthis in months:\n",
    "        query = \"Select sum(DeductedAmount) from %s where Date like ?\" %temp2 \n",
    "        temp = cur.execute(query, (f'%{monthis}%',)).fetchall()\n",
    "        if temp[0][0] == None:\n",
    "            monthlyExpenses.append(0)\n",
    "\n",
    "        else:\n",
    "            monthlyExpenses.append(temp[0][0])\n",
    "    \n",
    "    # Plotting using Matplotlib\n",
    "    fig = plt.figure(figsize = (12, 6))\n",
    "    plt.bar(months, monthlyExpenses, color ='maroon', width = 0.6)\n",
    "    plt.xlabel(\"Months\", fontweight ='bold', fontsize = 15)\n",
    "    plt.ylabel(\"Total Expenses\", fontweight ='bold', fontsize = 15)\n",
    "    plt.title(\"Monthly Expenses FY23\",fontweight ='bold', fontsize = 15)\n",
    "\n",
    "    # Show the plot\n",
    "    plt.show()\n",
    "    \n",
    "    print(\"Total Expense FY23 is\", sum(monthlyExpenses))"
   ]
  },
  {
   "cell_type": "code",
   "execution_count": 79,
   "id": "8f0f2b21",
   "metadata": {},
   "outputs": [
    {
     "data": {
      "image/png": "[encoded data removed]",
      "text/plain": [
       "<Figure size 864x432 with 1 Axes>"
      ]
     },
     "metadata": {
      "needs_background": "light"
     },
     "output_type": "display_data"
    },
    {
     "name": "stdout",
     "output_type": "stream",
     "text": [
      "Total Expense FY23 is 135707.0\n"
     ]
    }
   ],
   "source": [
    "monthlyData('ExpendData')"
   ]
  },
  {
   "cell_type": "code",
   "execution_count": 93,
   "id": "a197c60b",
   "metadata": {},
   "outputs": [],
   "source": [
    "import numpy as np\n",
    "def incomeSalary(mnth, yr, table1, table2):\n",
    "    if mnth.upper() != 'WHOLE YEAR':\n",
    "        dic = {'february': 28, 'april': 30, 'june':30, 'september':30, 'november':30}\n",
    "        days = []\n",
    "        if mnth in dic:\n",
    "            for x in range(1,dic[mnth]+1):\n",
    "                if x < 10:\n",
    "                    days.append(' 0'+str(x))\n",
    "                else:\n",
    "                    days.append(' '+str(x))\n",
    "        else:\n",
    "            for x in range(1, 32):\n",
    "                if x < 10:\n",
    "                    days.append(' 0'+str(x))\n",
    "                else:\n",
    "                    days.append(' '+str(x))\n",
    "        \n",
    "        duration = mnth+'-'+yr\n",
    "        expns = []\n",
    "        incme = []\n",
    "        \n",
    "        for i in days:\n",
    "            day = i + '-'+mnth+'-'+yr\n",
    "            q1  = \"Select sum(DeductedAmount) from %s where Date like ? and Source <> 'BalanceUpdate'\" %table2\n",
    "            q2  = \"Select sum(Amount) from %s where Date like ?\" %table1\n",
    "            temp1 = cur.execute(q1, (f'%{day}',)).fetchone()\n",
    "            temp2 = cur.execute(q2, (f'%{day}',)).fetchone()\n",
    "            if temp1[0] == None:\n",
    "                expns.append(0)\n",
    "\n",
    "            else:\n",
    "                expns.append(temp1[0])\n",
    "                \n",
    "            if temp2[0] == None:\n",
    "                incme.append(0)\n",
    "\n",
    "            else:\n",
    "                incme.append(temp2[0])\n",
    "                \n",
    "            # Analysis\n",
    "        fig = plt.subplots(figsize =(17, 7))\n",
    "        plt.plot(days, incme, 'c', label = 'Incomes')\n",
    "        plt.plot(days, expns, 'r', label = 'Expenses')\n",
    "        plt.legend()\n",
    "        plt.show()\n",
    "            \n",
    "\n",
    "    else:\n",
    "        months = ['January', 'February', 'March', 'April', 'May', 'June', 'July', 'August', 'September', 'October', 'November', 'December']\n",
    "        monthlyExpenses = []\n",
    "        monthlyIncomes = []\n",
    "        for i in months:\n",
    "            duration = i+'-'+yr\n",
    "            qr1  = \"Select sum(DeductedAmount) from %s where Date like ?\" %table2\n",
    "            qr2  = \"Select sum(Amount) from %s where Date like ?\" %table1\n",
    "            temp1 = cur.execute(qr1, (f'%{duration}',)).fetchone()\n",
    "            temp2 = cur.execute(qr2, (f'%{duration}',)).fetchone()\n",
    "            if temp1[0] == None:\n",
    "                monthlyExpenses.append(0)\n",
    "\n",
    "            else:\n",
    "                monthlyExpenses.append(temp1[0])\n",
    "                \n",
    "            if temp2[0] == None:\n",
    "                monthlyIncomes.append(0)\n",
    "\n",
    "            else:\n",
    "                monthlyIncomes.append(temp2[0])\n",
    "                    \n",
    "            #Analyzing\n",
    "        barWidth = 0.3\n",
    "        fig = plt.subplots(figsize =(14, 7))\n",
    "\n",
    "        br1 = np.arange(12)\n",
    "        br2 = [x + barWidth for x in br1]\n",
    "        br3 = [x + barWidth for x in br2]\n",
    "            \n",
    "            \n",
    "        plt.bar(br1, monthlyIncomes, color ='g', width = barWidth, edgecolor ='grey', label ='Incomes')\n",
    "        plt.bar(br2, monthlyExpenses, color ='r', width = barWidth, edgecolor ='grey', label ='Expenses')\n",
    "                \n",
    "        plt.xlabel('Months', fontweight ='bold', fontsize = 15)\n",
    "        plt.ylabel('Amounts', fontweight ='bold', fontsize = 15)\n",
    "        plt.xticks([r + barWidth for r in range(12)], months)\n",
    "        plt.title(\"Expense VS Income Analysis\")\n",
    "\n",
    "            # Show the plot\n",
    "        plt.legend()\n",
    "        plt.show()\n",
    "            \n",
    "        fig = plt.subplots(figsize =(14, 7))\n",
    "        plt.plot(months, monthlyIncomes, 'c', label = 'Incomes')\n",
    "        plt.plot(months, monthlyExpenses, 'r', label = 'Expenses')\n",
    "        plt.legend()\n",
    "        plt.show()\n",
    "\n",
    "                    \n",
    "    "
   ]
  },
  {
   "cell_type": "code",
   "execution_count": 98,
   "id": "40d12b04",
   "metadata": {},
   "outputs": [
    {
     "data": {
      "image/png": "[encoded data removed]",
      "text/plain": [
       "<Figure size 1008x504 with 1 Axes>"
      ]
     },
     "metadata": {
      "needs_background": "light"
     },
     "output_type": "display_data"
    },
    {
     "data": {
      "image/png": "[encoded data removed]",
      "text/plain": [
       "<Figure size 1008x504 with 1 Axes>"
      ]
     },
     "metadata": {
      "needs_background": "light"
     },
     "output_type": "display_data"
    }
   ],
   "source": [
    "incomeSalary('Whole Year', '23', 'IncomeData', \"ExpendData\")"
   ]
  },
  {
   "cell_type": "code",
   "execution_count": null,
   "id": "3e5ebe93",
   "metadata": {
    "collapsed": true
   },
   "outputs": [],
   "source": [
    "month = widgets.Dropdown(options=['Whole Year', 'January', 'February', 'March', 'April', 'May', 'June', 'July', 'August', 'September', 'October', 'November', 'December'], description = \"Select Month\")\n",
    "year = widgets.Dropdown(options=['22', '23', '24', '25'], description = \"Select Year\")\n",
    "display(month, year)"
   ]
  },
  {
   "cell_type": "code",
   "execution_count": null,
   "id": "8657b94e",
   "metadata": {},
   "outputs": [],
   "source": [
    "incomeSalary(month.value, year.value)"
   ]
  },
  {
   "cell_type": "code",
   "execution_count": null,
   "id": "8f0374e7",
   "metadata": {},
   "outputs": [],
   "source": [
    "date = widgets.Dropdown(options=[\"Select One\",\"By Day\",\"By Monthly\",\"By Yearly\"],description = \"Select Period\")\n",
    "thistype = widgets.Dropdown(options=[\"Select\", 'Salary', 'Recovery','Rewards'], description = \"Type\")\n",
    "display(date, thistype)"
   ]
  },
  {
   "cell_type": "code",
   "execution_count": null,
   "id": "45450846",
   "metadata": {},
   "outputs": [],
   "source": []
  },
  {
   "cell_type": "code",
   "execution_count": null,
   "id": "dfba57f6",
   "metadata": {},
   "outputs": [],
   "source": [
    "#show expenditure vs savings\n",
    "#show expendtype and its expenditure\n",
    "#show months with their monthly expenditure"
   ]
  },
  {
   "cell_type": "code",
   "execution_count": 201,
   "id": "0cdb97f6",
   "metadata": {},
   "outputs": [
    {
     "name": "stdout",
     "output_type": "stream",
     "text": [
      "Hii, I will show you your records Graphically\n"
     ]
    }
   ],
   "source": [
    "print(\"Hii, I will show you your records Graphically\")\n",
    "\n",
    "def expenseAnalyz(table2):\n",
    "    sources = ['EDUCATION', 'SELF', 'OTHERS', 'DEBT', 'RECHARGE', 'OUTEATING', 'HOME REQUIREMENT','LENDED MONEY','ROOM RENT']\n",
    "    colors = ['green', 'purple', 'yellow', 'red', 'cyan','blue', 'orange', 'black', 'magenta']\n",
    "\n",
    "    \n",
    "    @interact\n",
    "    def compare(month = ['Year', 'January', 'February', 'March', 'April', 'May', 'June', 'July', 'August', 'September', 'October', 'November', 'December', 'Exit'], year = ['2023', '2023', '2024']):\n",
    "        \n",
    "        expenseList = []\n",
    "        duration = month+'-'+ year[2:]\n",
    "        query = \"Select sum(DeductedAmount) from %s where Source = ? and Date like ?\"%table2\n",
    "        \n",
    "        if month == 'Year':\n",
    "            duration = '-'+year[2:]\n",
    "            for i in sources:\n",
    "                temp = cur.execute(query, (i, f'%{duration}',)).fetchone()\n",
    "                if temp[0] == None:\n",
    "                    expenseList.append(0)\n",
    "                    print(i, ': ',0)\n",
    "                else:\n",
    "                    expenseList.append(temp[0])\n",
    "                    print(i, ': ',temp[0])\n",
    "            \n",
    "        if month =='January':\n",
    "            for i in sources:\n",
    "                temp = cur.execute(query, (i, f'%{duration}',)).fetchone()\n",
    "                if temp[0] == None:\n",
    "                    expenseList.append(0)\n",
    "                    print(i, ': ',0)\n",
    "                else:\n",
    "                    expenseList.append(temp[0])\n",
    "                    print(i, ': ',temp[0])\n",
    "        if month =='February':\n",
    "            for i in sources:\n",
    "                temp = cur.execute(query, (i, f'%{duration}',)).fetchone()\n",
    "                if temp[0] == None:\n",
    "                    expenseList.append(0)\n",
    "                    print(i, ': ',0)\n",
    "                else:\n",
    "                    expenseList.append(temp[0])\n",
    "                    print(i, ': ',temp[0])\n",
    "        if month == 'March':\n",
    "            for i in sources:\n",
    "                temp = cur.execute(query, (i, f'%{duration}',)).fetchone()\n",
    "                if temp[0] == None:\n",
    "                    expenseList.append(0)\n",
    "                    print(i, ': ',0)\n",
    "                else:\n",
    "                    expenseList.append(temp[0])\n",
    "                    print(i, ': ',temp[0])\n",
    "        if month == 'April':\n",
    "            for i in sources:\n",
    "                temp = cur.execute(query, (i, f'%{duration}',)).fetchone()\n",
    "                if temp[0] == None:\n",
    "                    expenseList.append(0)\n",
    "                    print(i, ': ',0)\n",
    "                else:\n",
    "                    expenseList.append(temp[0])\n",
    "                    print(i, ': ',temp[0])\n",
    "        if month == 'May':\n",
    "            for i in sources:\n",
    "                temp = cur.execute(query, (i, f'%{duration}',)).fetchone()\n",
    "                if temp[0] == None:\n",
    "                    expenseList.append(0)\n",
    "                    print(i, ': ',0)\n",
    "                else:\n",
    "                    expenseList.append(temp[0])\n",
    "                    print(i, ': ',temp[0])\n",
    "                \n",
    "        if month == 'June':\n",
    "            for i in sources:\n",
    "                temp = cur.execute(query, (i, f'%{duration}',)).fetchone()\n",
    "                if temp[0] == None:\n",
    "                    expenseList.append(0)\n",
    "                    print(i, ': ',0)\n",
    "                else:\n",
    "                    expenseList.append(temp[0])\n",
    "                    print(i, ': ',temp[0])\n",
    "                \n",
    "        if month == 'July':\n",
    "            for i in sources:\n",
    "                temp = cur.execute(query, (i, f'%{duration}',)).fetchone()\n",
    "                if temp[0] == None:\n",
    "                    expenseList.append(0)\n",
    "                    print(i, ': ',0)\n",
    "                else:\n",
    "                    expenseList.append(temp[0])\n",
    "                    print(i, ': ',temp[0])\n",
    "                \n",
    "        if month == 'August':\n",
    "            for i in sources:\n",
    "                temp = cur.execute(query, (i, f'%{duration}',)).fetchone()\n",
    "                if temp[0] == None:\n",
    "                    expenseList.append(0)\n",
    "                    print(i, ': ',0)\n",
    "                else:\n",
    "                    expenseList.append(temp[0])\n",
    "                    print(i, ': ',temp[0])\n",
    "                \n",
    "        if month == 'September':\n",
    "            for i in sources:\n",
    "                temp = cur.execute(query, (i, f'%{duration}',)).fetchone()\n",
    "                if temp[0] == None:\n",
    "                    expenseList.append(0)\n",
    "                    print(i, ': ',0)\n",
    "                else:\n",
    "                    expenseList.append(temp[0])\n",
    "                    print(i, ': ',temp[0])\n",
    "                \n",
    "        if month == 'October':\n",
    "            for i in sources:\n",
    "                temp = cur.execute(query, (i, f'%{duration}',)).fetchone()\n",
    "                if temp[0] == None:\n",
    "                    expenseList.append(0)\n",
    "                    print(i, ': ',0)\n",
    "                else:\n",
    "                    expenseList.append(temp[0])\n",
    "                    print(i, ': ',temp[0])\n",
    "                \n",
    "        if month == 'November':\n",
    "            for i in sources:\n",
    "                temp = cur.execute(query, (i, f'%{duration}',)).fetchone()\n",
    "                if temp[0] == None:\n",
    "                    expenseList.append(0)\n",
    "                    print(i, ': ',0)\n",
    "                else:\n",
    "                    expenseList.append(temp[0])\n",
    "                    print(i, ': ',temp[0])\n",
    "        \n",
    "        if month == 'December':\n",
    "            for i in sources:\n",
    "                temp = cur.execute(query, (i, f'%{duration}',)).fetchone()\n",
    "                if temp[0] == None:\n",
    "                    expenseList.append(0)\n",
    "                    print(i, ': ',0)\n",
    "                else:\n",
    "                    expenseList.append(temp[0])\n",
    "                    print(i, ': ',temp[0])\n",
    "                \n",
    "        if month == 'Exit':\n",
    "            return\n",
    "        \n",
    "        print(\"Total Expense: \",sum(expenseList))\n",
    "        \n",
    "        fig = plt.figure(figsize =(10, 7))\n",
    "        plt.pie(expenseList, labels = sources, colors = colors)\n",
    "\n",
    "        explode = [0.1, 0.1, 0.2, 0.2, 0.1, 0.1, 0.3, 0.1, 0.1]\n",
    "        \n",
    "        fig, ax = plt.subplots(figsize =(15, 7))\n",
    "        wp = { 'linewidth' : 1, 'edgecolor' : \"green\" }\n",
    "        wedges, texts, autotexts = ax.pie(expenseList, labels = sources, colors = colors, autopct = \"%.2f%%\", explode = explode, shadow = True,\n",
    "               startangle = 90, wedgeprops = wp, textprops = dict(color =\"magenta\"))\n",
    "        \n",
    "        ax.legend(wedges, sources,\n",
    "        title =\"Categories\",\n",
    "        loc =\"center left\",\n",
    "        bbox_to_anchor =(2, 0, 0.5, 1))\n",
    " \n",
    "        plt.setp(autotexts, size = 8, weight =\"bold\")\n",
    "        ax.set_title(\"Category-wise Analysis\")\n",
    "        \n",
    "        plt.show()\n",
    "        \n",
    "        "
   ]
  },
  {
   "cell_type": "code",
   "execution_count": 202,
   "id": "d583f838",
   "metadata": {},
   "outputs": [
    {
     "data": {
      "application/vnd.jupyter.widget-view+json": {
       "model_id": "1a1a1ee63f9b494d9c63664129b9f29c",
       "version_major": 2,
       "version_minor": 0
      },
      "text/plain": [
       "interactive(children=(Dropdown(description='month', options=('Year', 'January', 'February', 'March', 'April', …"
      ]
     },
     "metadata": {},
     "output_type": "display_data"
    }
   ],
   "source": [
    "expenseAnalyz('ExpendData')"
   ]
  },
  {
   "cell_type": "code",
   "execution_count": 86,
   "id": "208d0953",
   "metadata": {},
   "outputs": [
    {
     "name": "stdout",
     "output_type": "stream",
     "text": [
      "[]\n"
     ]
    }
   ],
   "source": [
    "i = '23'\n",
    "x = cur.execute(\"Select Source, DeductedAmount from ExpendData where Source = 'DONATE'\").fetchall()\n",
    "print(x)"
   ]
  },
  {
   "cell_type": "code",
   "execution_count": 79,
   "id": "791e7b94",
   "metadata": {},
   "outputs": [
    {
     "ename": "ModuleNotFoundError",
     "evalue": "No module named 'cv2'",
     "output_type": "error",
     "traceback": [
      "\u001b[1;31m---------------------------------------------------------------------------\u001b[0m",
      "\u001b[1;31mModuleNotFoundError\u001b[0m                       Traceback (most recent call last)",
      "\u001b[1;32m~\\AppData\\Local\\Temp/ipykernel_12988/472590350.py\u001b[0m in \u001b[0;36m<module>\u001b[1;34m\u001b[0m\n\u001b[1;32m----> 1\u001b[1;33m \u001b[1;32mimport\u001b[0m \u001b[0mcv2\u001b[0m\u001b[1;33m\u001b[0m\u001b[1;33m\u001b[0m\u001b[0m\n\u001b[0m\u001b[0;32m      2\u001b[0m \u001b[0mimg\u001b[0m \u001b[1;33m=\u001b[0m \u001b[0mcv2\u001b[0m\u001b[1;33m.\u001b[0m\u001b[0mimread\u001b[0m\u001b[1;33m(\u001b[0m\u001b[1;34m'I:\\india--map.jpg'\u001b[0m\u001b[1;33m)\u001b[0m\u001b[1;33m\u001b[0m\u001b[1;33m\u001b[0m\u001b[0m\n\u001b[0;32m      3\u001b[0m \u001b[0mprint\u001b[0m\u001b[1;33m(\u001b[0m\u001b[0mimg\u001b[0m\u001b[1;33m)\u001b[0m\u001b[1;33m\u001b[0m\u001b[1;33m\u001b[0m\u001b[0m\n",
      "\u001b[1;31mModuleNotFoundError\u001b[0m: No module named 'cv2'"
     ]
    }
   ],
   "source": [
    "import cv2\n",
    "img = cv2.imread('I:\\india--map.jpg')\n",
    "print(img)"
   ]
  },
  {
   "cell_type": "code",
   "execution_count": 81,
   "id": "df285ff5",
   "metadata": {},
   "outputs": [
    {
     "name": "stdout",
     "output_type": "stream",
     "text": [
      "Collecting opencv-python\n",
      "  Downloading opencv_python-4.8.1.78-cp37-abi3-win_amd64.whl (38.1 MB)\n",
      "Requirement already satisfied: numpy>=1.17.3 in g:\\anaconda3\\lib\\site-packages (from opencv-python) (1.20.3)\n",
      "Installing collected packages: opencv-python\n",
      "Successfully installed opencv-python-4.8.1.78\n",
      "Note: you may need to restart the kernel to use updated packages.\n"
     ]
    }
   ],
   "source": [
    "pip install opencv-python\n"
   ]
  },
  {
   "cell_type": "code",
   "execution_count": 14,
   "id": "e3e9490f",
   "metadata": {},
   "outputs": [],
   "source": [
    "def piechart():\n",
    "    @interact\n",
    "    def domain(Domains = ['Select', 'education', 'self', 'donate', 'other', 'Debt', 'recharges', 'outeating', 'household','LendedMoney', 'donate']):\n",
    "        Query = \"select DeductedAmount, Date as Dates from ExpendData where Source = ?\"\n",
    "        if Domains == 'Select':\n",
    "            print(\"            Select a Field\")\n",
    "        else:\n",
    "            print(cur.execute(Query, (Domains,)).fetchall())"
   ]
  },
  {
   "cell_type": "code",
   "execution_count": 15,
   "id": "f48e3d31",
   "metadata": {},
   "outputs": [
    {
     "data": {
      "application/vnd.jupyter.widget-view+json": {
       "model_id": "4ae283096d3f46f1a9236d378517589f",
       "version_major": 2,
       "version_minor": 0
      },
      "text/plain": [
       "interactive(children=(Dropdown(description='Domains', options=('Select', 'education', 'self', 'donate', 'other…"
      ]
     },
     "metadata": {},
     "output_type": "display_data"
    }
   ],
   "source": [
    "piechart()"
   ]
  },
  {
   "cell_type": "code",
   "execution_count": null,
   "id": "177de5db",
   "metadata": {},
   "outputs": [],
   "source": [
    "'''figure, axis = plt.subplots(2, 1, figsize=(18,12))\n",
    "figure.suptitle(\"Expenditure and Balance or savings\")\n",
    "axis[0].plot(dfsal['Date'], dfsal['Bal'])\n",
    "axis[0].set_title(\"Savings VS Date\")\n",
    "axis[1].bar(df['Date'], df['Expenditure'])\n",
    "axis[1].set_title(\"Expenditure VS Date\")\n",
    "plt.xticks(rotation=90)\n",
    "//plt.show()'''"
   ]
  },
  {
   "cell_type": "code",
   "execution_count": null,
   "id": "9c9d2f23",
   "metadata": {},
   "outputs": [],
   "source": [
    "fig,axes = plt.subplots(2,1,figsize=(18,12))\n",
    "fig.suptitle(\"Expenditure and Balance or savings\", fontsize=16)\n",
    "sns.barplot(df['Date'],df['Expenditure'], ax = axes[0])\n",
    "sns.lineplot(dfsal['Date'],dfsal['Bal'], ax = axes[1])\n",
    "plt.show()"
   ]
  },
  {
   "cell_type": "code",
   "execution_count": null,
   "id": "aabfcdec",
   "metadata": {},
   "outputs": [],
   "source": [
    "from sklearn.tree import DecisionTreeClassifier\n",
    "from sklearn.linear_model import LogisticRegression\n",
    "from sklearn.preprocessing import LabelEncoder\n",
    "from sklearn.model_selection import train_test_split\n",
    "clf = DecisionTreeClassifier()"
   ]
  },
  {
   "cell_type": "code",
   "execution_count": null,
   "id": "1cd2664e",
   "metadata": {},
   "outputs": [],
   "source": [
    "query = \"select ExpendType, Expenditure from data where Expenditure<> 'None' and ExpendType <> 'salary'\"\n",
    "Data = pd.read_sql(query, conn)\n",
    "X = Data.iloc[:, :-1].values\n",
    "y = Data.iloc[:, -1].values\n",
    "le = LabelEncoder()\n",
    "X['ExpendType'] = le.fit_transform(X['ExpendType'])\n",
    "X_train, X_test, y_train, y_test = train_test_split(X, y, test_size=0.2, random_state=0)\n",
    "classifier = LogisticRegression()\n",
    "classifier.fit(X_train, y_train)"
   ]
  },
  {
   "cell_type": "code",
   "execution_count": null,
   "id": "01c2bb9c",
   "metadata": {},
   "outputs": [],
   "source": [
    "query = \"select count(*), strftime('%y-%m', Date), ExpendType, Date from data Group By ExpendType\"\n",
    "q = \"select Count(*), strftime(Date, '%m-%Y') as 'month-year' from data Group By strftime(Date, '%m-%Y')\"\n",
    "x = cur.execute(q).fetchall()\n",
    "for i in x:\n",
    "    print(i)"
   ]
  },
  {
   "cell_type": "code",
   "execution_count": 5,
   "id": "3c0def70",
   "metadata": {},
   "outputs": [
    {
     "ename": "ModuleNotFoundError",
     "evalue": "No module named 'directory'",
     "output_type": "error",
     "traceback": [
      "\u001b[1;31m---------------------------------------------------------------------------\u001b[0m",
      "\u001b[1;31mModuleNotFoundError\u001b[0m                       Traceback (most recent call last)",
      "\u001b[1;32m~\\AppData\\Local\\Temp/ipykernel_22272/3026347282.py\u001b[0m in \u001b[0;36m<module>\u001b[1;34m\u001b[0m\n\u001b[0;32m      1\u001b[0m \u001b[1;32mimport\u001b[0m \u001b[0mos\u001b[0m\u001b[1;33m\u001b[0m\u001b[1;33m\u001b[0m\u001b[0m\n\u001b[1;32m----> 2\u001b[1;33m \u001b[1;32mimport\u001b[0m \u001b[0mdirectory\u001b[0m\u001b[1;33m\u001b[0m\u001b[1;33m\u001b[0m\u001b[0m\n\u001b[0m",
      "\u001b[1;31mModuleNotFoundError\u001b[0m: No module named 'directory'"
     ]
    }
   ],
   "source": []
  },
  {
   "cell_type": "code",
   "execution_count": null,
   "id": "a7186301",
   "metadata": {},
   "outputs": [],
   "source": []
  }
 ],
 "metadata": {
  "kernelspec": {
   "display_name": "Python 3 (ipykernel)",
   "language": "python",
   "name": "python3"
  },
  "language_info": {
   "codemirror_mode": {
    "name": "ipython",
    "version": 3
   },
   "file_extension": ".py",
   "mimetype": "text/x-python",
   "name": "python",
   "nbconvert_exporter": "python",
   "pygments_lexer": "ipython3",
   "version": "3.9.7"
  }
 },
 "nbformat": 4,
 "nbformat_minor": 5
}
